{
 "cells": [
  {
   "cell_type": "code",
   "execution_count": 1,
   "metadata": {},
   "outputs": [],
   "source": [
    "import numpy as np\n",
    "import pandas as pd\n",
    "import os\n",
    "import zipfile\n",
    "import random\n",
    "import matplotlib.pyplot as plt\n",
    "from sklearn.utils import shuffle\n",
    "# from keras.preprocessing.image import ImageDataGenerator, load_img\n",
    "%matplotlib inline"
   ]
  },
  {
   "cell_type": "code",
   "execution_count": 2,
   "metadata": {},
   "outputs": [],
   "source": [
    "df = pd.read_csv('fer2013.csv')"
   ]
  },
  {
   "cell_type": "code",
   "execution_count": 3,
   "metadata": {},
   "outputs": [
    {
     "data": {
      "text/html": [
       "<div>\n",
       "<style scoped>\n",
       "    .dataframe tbody tr th:only-of-type {\n",
       "        vertical-align: middle;\n",
       "    }\n",
       "\n",
       "    .dataframe tbody tr th {\n",
       "        vertical-align: top;\n",
       "    }\n",
       "\n",
       "    .dataframe thead th {\n",
       "        text-align: right;\n",
       "    }\n",
       "</style>\n",
       "<table border=\"1\" class=\"dataframe\">\n",
       "  <thead>\n",
       "    <tr style=\"text-align: right;\">\n",
       "      <th></th>\n",
       "      <th>emotion</th>\n",
       "      <th>pixels</th>\n",
       "      <th>Usage</th>\n",
       "    </tr>\n",
       "  </thead>\n",
       "  <tbody>\n",
       "    <tr>\n",
       "      <td>0</td>\n",
       "      <td>0</td>\n",
       "      <td>70 80 82 72 58 58 60 63 54 58 60 48 89 115 121...</td>\n",
       "      <td>Training</td>\n",
       "    </tr>\n",
       "    <tr>\n",
       "      <td>1</td>\n",
       "      <td>0</td>\n",
       "      <td>151 150 147 155 148 133 111 140 170 174 182 15...</td>\n",
       "      <td>Training</td>\n",
       "    </tr>\n",
       "    <tr>\n",
       "      <td>2</td>\n",
       "      <td>2</td>\n",
       "      <td>231 212 156 164 174 138 161 173 182 200 106 38...</td>\n",
       "      <td>Training</td>\n",
       "    </tr>\n",
       "    <tr>\n",
       "      <td>3</td>\n",
       "      <td>4</td>\n",
       "      <td>24 32 36 30 32 23 19 20 30 41 21 22 32 34 21 1...</td>\n",
       "      <td>Training</td>\n",
       "    </tr>\n",
       "    <tr>\n",
       "      <td>4</td>\n",
       "      <td>6</td>\n",
       "      <td>4 0 0 0 0 0 0 0 0 0 0 0 3 15 23 28 48 50 58 84...</td>\n",
       "      <td>Training</td>\n",
       "    </tr>\n",
       "  </tbody>\n",
       "</table>\n",
       "</div>"
      ],
      "text/plain": [
       "   emotion                                             pixels     Usage\n",
       "0        0  70 80 82 72 58 58 60 63 54 58 60 48 89 115 121...  Training\n",
       "1        0  151 150 147 155 148 133 111 140 170 174 182 15...  Training\n",
       "2        2  231 212 156 164 174 138 161 173 182 200 106 38...  Training\n",
       "3        4  24 32 36 30 32 23 19 20 30 41 21 22 32 34 21 1...  Training\n",
       "4        6  4 0 0 0 0 0 0 0 0 0 0 0 3 15 23 28 48 50 58 84...  Training"
      ]
     },
     "execution_count": 3,
     "metadata": {},
     "output_type": "execute_result"
    }
   ],
   "source": [
    "df.head(5)"
   ]
  },
  {
   "cell_type": "code",
   "execution_count": 4,
   "metadata": {},
   "outputs": [
    {
     "data": {
      "text/plain": [
       "(35887, 3)"
      ]
     },
     "execution_count": 4,
     "metadata": {},
     "output_type": "execute_result"
    }
   ],
   "source": [
    "df.shape"
   ]
  },
  {
   "cell_type": "code",
   "execution_count": 5,
   "metadata": {},
   "outputs": [
    {
     "data": {
      "text/plain": [
       "3    8989\n",
       "6    6198\n",
       "4    6077\n",
       "2    5121\n",
       "0    4953\n",
       "5    4002\n",
       "1     547\n",
       "Name: emotion, dtype: int64"
      ]
     },
     "execution_count": 5,
     "metadata": {},
     "output_type": "execute_result"
    }
   ],
   "source": [
    "df['emotion'].value_counts()"
   ]
  },
  {
   "cell_type": "code",
   "execution_count": 6,
   "metadata": {},
   "outputs": [
    {
     "data": {
      "text/plain": [
       "Training       28709\n",
       "PublicTest      3589\n",
       "PrivateTest     3589\n",
       "Name: Usage, dtype: int64"
      ]
     },
     "execution_count": 6,
     "metadata": {},
     "output_type": "execute_result"
    }
   ],
   "source": [
    "df['Usage'].value_counts()"
   ]
  },
  {
   "cell_type": "code",
   "execution_count": 7,
   "metadata": {},
   "outputs": [
    {
     "data": {
      "text/plain": [
       "emotion  Usage      \n",
       "0        Training       3995\n",
       "         PrivateTest     491\n",
       "         PublicTest      467\n",
       "1        Training        436\n",
       "         PublicTest       56\n",
       "         PrivateTest      55\n",
       "2        Training       4097\n",
       "         PrivateTest     528\n",
       "         PublicTest      496\n",
       "3        Training       7215\n",
       "         PublicTest      895\n",
       "         PrivateTest     879\n",
       "4        Training       4830\n",
       "         PublicTest      653\n",
       "         PrivateTest     594\n",
       "5        Training       3171\n",
       "         PrivateTest     416\n",
       "         PublicTest      415\n",
       "6        Training       4965\n",
       "         PrivateTest     626\n",
       "         PublicTest      607\n",
       "Name: Usage, dtype: int64"
      ]
     },
     "execution_count": 7,
     "metadata": {},
     "output_type": "execute_result"
    }
   ],
   "source": [
    "df.groupby('emotion')['Usage'].value_counts()"
   ]
  },
  {
   "cell_type": "code",
   "execution_count": 8,
   "metadata": {},
   "outputs": [],
   "source": [
    "x_train,y_train,x_val,y_val,x_test,y_test = [],[],[],[],[],[]"
   ]
  },
  {
   "cell_type": "code",
   "execution_count": 9,
   "metadata": {},
   "outputs": [],
   "source": [
    "for index, row in df.iterrows():\n",
    "    pixels_val = row['pixels'].split(\" \")\n",
    "    try:\n",
    "        if 'Training' in row['Usage']:\n",
    "            x_train.append(np.array(pixels_val, 'float32'))\n",
    "            y_train.append(row['emotion'])\n",
    "        elif 'PublicTest' in row['Usage']:\n",
    "            x_val.append(np.array(pixels_val, 'float32'))\n",
    "            y_val.append(row['emotion'])\n",
    "        elif 'PrivateTest' in row['Usage']:\n",
    "            x_test.append(np.array(pixels_val, 'float32'))\n",
    "            y_test.append(row['emotion'])\n",
    "    except:\n",
    "        print('Error occured at index {} and row {}'.format(index,row))\n",
    "    "
   ]
  },
  {
   "cell_type": "code",
   "execution_count": 10,
   "metadata": {},
   "outputs": [
    {
     "data": {
      "text/plain": [
       "[array([ 70.,  80.,  82., ..., 106., 109.,  82.], dtype=float32),\n",
       " array([151., 150., 147., ..., 193., 183., 184.], dtype=float32),\n",
       " array([231., 212., 156., ...,  88., 110., 152.], dtype=float32),\n",
       " array([ 24.,  32.,  36., ..., 142., 143., 142.], dtype=float32),\n",
       " array([ 4.,  0.,  0., ..., 30., 29., 30.], dtype=float32)]"
      ]
     },
     "execution_count": 10,
     "metadata": {},
     "output_type": "execute_result"
    }
   ],
   "source": [
    "x_train[0:5]"
   ]
  },
  {
   "cell_type": "code",
   "execution_count": 11,
   "metadata": {},
   "outputs": [
    {
     "data": {
      "text/plain": [
       "[0, 0, 2, 4, 6]"
      ]
     },
     "execution_count": 11,
     "metadata": {},
     "output_type": "execute_result"
    }
   ],
   "source": [
    "y_train[0:5]"
   ]
  },
  {
   "cell_type": "code",
   "execution_count": 12,
   "metadata": {},
   "outputs": [
    {
     "name": "stdout",
     "output_type": "stream",
     "text": [
      "[array([254., 254., 254., ...,  42., 129., 180.], dtype=float32), array([156., 184., 198., ..., 172., 167., 161.], dtype=float32), array([ 69., 118.,  61., ...,  88.,  87.,  90.], dtype=float32)]\n",
      "[0, 1, 4]\n",
      "[array([170., 118., 101., ..., 159., 133., 131.], dtype=float32), array([ 7.,  5.,  8., ..., 72., 57., 52.], dtype=float32), array([232., 240., 241., ...,   4.,   4.,   9.], dtype=float32)]\n",
      "[0, 5, 6]\n"
     ]
    }
   ],
   "source": [
    "print(x_val[0:3])\n",
    "print(y_val[0:3])\n",
    "print(x_test[0:3])\n",
    "print(y_test[0:3])"
   ]
  },
  {
   "cell_type": "code",
   "execution_count": 13,
   "metadata": {},
   "outputs": [
    {
     "data": {
      "text/plain": [
       "list"
      ]
     },
     "execution_count": 13,
     "metadata": {},
     "output_type": "execute_result"
    }
   ],
   "source": [
    "type(x_train)"
   ]
  },
  {
   "cell_type": "code",
   "execution_count": 14,
   "metadata": {},
   "outputs": [
    {
     "data": {
      "text/plain": [
       "list"
      ]
     },
     "execution_count": 14,
     "metadata": {},
     "output_type": "execute_result"
    }
   ],
   "source": [
    "type(y_train)"
   ]
  },
  {
   "cell_type": "code",
   "execution_count": 15,
   "metadata": {},
   "outputs": [],
   "source": [
    "x_train = np.array(x_train,'float32')"
   ]
  },
  {
   "cell_type": "code",
   "execution_count": 16,
   "metadata": {},
   "outputs": [
    {
     "data": {
      "text/plain": [
       "(28709, 2304)"
      ]
     },
     "execution_count": 16,
     "metadata": {},
     "output_type": "execute_result"
    }
   ],
   "source": [
    "x_train.shape"
   ]
  },
  {
   "cell_type": "code",
   "execution_count": 17,
   "metadata": {},
   "outputs": [],
   "source": [
    "y_train = np.array(y_train)\n",
    "x_val = np.array(x_val,'float32')\n",
    "y_val = np.array(y_val)\n",
    "x_test = np.array(x_test, 'float32')\n",
    "y_test = np.array(y_test)"
   ]
  },
  {
   "cell_type": "code",
   "execution_count": 18,
   "metadata": {},
   "outputs": [
    {
     "name": "stdout",
     "output_type": "stream",
     "text": [
      "(3589, 2304)\n",
      "(3589,)\n",
      "(3589, 2304)\n",
      "(3589,)\n"
     ]
    }
   ],
   "source": [
    "print(x_val.shape)\n",
    "print(y_val.shape)\n",
    "print(x_test.shape)\n",
    "print(y_test.shape)"
   ]
  },
  {
   "cell_type": "code",
   "execution_count": 19,
   "metadata": {},
   "outputs": [],
   "source": [
    "img_width = 48\n",
    "img_height = 48\n",
    "channels = 1"
   ]
  },
  {
   "cell_type": "code",
   "execution_count": 20,
   "metadata": {},
   "outputs": [],
   "source": [
    "image1, image2, image3 = x_train[0,:], x_train[1,:], x_train[2,:]\n",
    "image1 = image1.reshape(img_width,img_height)\n",
    "image2 = image2.reshape(img_width,img_height)\n",
    "image3 = image3.reshape(img_width,img_height)"
   ]
  },
  {
   "cell_type": "markdown",
   "metadata": {},
   "source": [
    "## anger = 0, disgust = 1, fear = 2, happy = 3, sad = 4, surprise = 5, neutral = 6"
   ]
  },
  {
   "cell_type": "code",
   "execution_count": 21,
   "metadata": {},
   "outputs": [
    {
     "name": "stdout",
     "output_type": "stream",
     "text": [
      "Categories: [0 0 2]\n"
     ]
    },
    {
     "data": {
      "image/png": "[encoded data removed]",
      "text/plain": [
       "<Figure size 1080x1080 with 3 Axes>"
      ]
     },
     "metadata": {
      "needs_background": "light"
     },
     "output_type": "display_data"
    }
   ],
   "source": [
    "fig, ax = plt.subplots(1,3, figsize = (15,15))\n",
    "\n",
    "ax[0].imshow(image1, cmap='gray')\n",
    "ax[1].imshow(image2, cmap='gray')\n",
    "ax[2].imshow(image3, cmap='gray')\n",
    "print('Categories: {}'.format(y_train[:3]))"
   ]
  },
  {
   "cell_type": "code",
   "execution_count": 22,
   "metadata": {},
   "outputs": [
    {
     "name": "stdout",
     "output_type": "stream",
     "text": [
      "[0.27450982 0.3137255  0.32156864 ... 0.41568628 0.42745098 0.32156864]\n"
     ]
    }
   ],
   "source": [
    "#  Normalizing data\n",
    "x_train = x_train/255.\n",
    "x_val = x_val/255.\n",
    "x_test = x_test/255.\n",
    "\n",
    "print(x_train[0,:])"
   ]
  },
  {
   "cell_type": "code",
   "execution_count": 23,
   "metadata": {},
   "outputs": [
    {
     "data": {
      "text/plain": [
       "28709"
      ]
     },
     "execution_count": 23,
     "metadata": {},
     "output_type": "execute_result"
    }
   ],
   "source": [
    "x_train.shape[0]"
   ]
  },
  {
   "cell_type": "code",
   "execution_count": 24,
   "metadata": {},
   "outputs": [],
   "source": [
    "# Reshape pixel arrays to 48 by 48 pixel images with 1 colour channel\n",
    "x_train = x_train.reshape(x_train.shape[0], img_width, img_height, channels)\n",
    "x_val = x_val.reshape(x_val.shape[0], img_width, img_height, channels)\n",
    "x_test = x_test.reshape(x_test.shape[0], img_width, img_height, channels)"
   ]
  },
  {
   "cell_type": "markdown",
   "metadata": {},
   "source": [
    "## Define a CNN model"
   ]
  },
  {
   "cell_type": "code",
   "execution_count": 25,
   "metadata": {},
   "outputs": [],
   "source": [
    "import tensorflow as tf\n"
   ]
  },
  {
   "cell_type": "code",
   "execution_count": 26,
   "metadata": {},
   "outputs": [],
   "source": [
    "model = tf.keras.models.Sequential()\n",
    "\n",
    "model.add(tf.keras.layers.Conv2D(64,(3,3), activation='relu', padding = 'same',\n",
    "                        input_shape=(img_width,img_height,channels)))\n",
    "model.add(tf.keras.layers.BatchNormalization())\n",
    "model.add(tf.keras.layers.MaxPooling2D((2,2)))\n",
    "model.add(tf.keras.layers.Dropout(0.5))\n",
    "\n",
    "model.add(tf.keras.layers.Conv2D(128,(3,3), activation='relu', padding = 'same'))\n",
    "model.add(tf.keras.layers.BatchNormalization())\n",
    "model.add(tf.keras.layers.MaxPooling2D((2,2)))\n",
    "model.add(tf.keras.layers.Dropout(0.5))\n",
    "\n",
    "model.add(tf.keras.layers.Conv2D(256,(3,3), activation='relu', padding = 'same'))\n",
    "model.add(tf.keras.layers.BatchNormalization())\n",
    "model.add(tf.keras.layers.MaxPooling2D((2,2)))\n",
    "model.add(tf.keras.layers.Dropout(0.5))\n",
    "\n",
    "model.add(tf.keras.layers.Conv2D(512,(3,3), activation='relu', padding = 'same'))\n",
    "model.add(tf.keras.layers.BatchNormalization())\n",
    "model.add(tf.keras.layers.MaxPooling2D((2,2)))\n",
    "model.add(tf.keras.layers.Dropout(0.5))\n",
    "\n",
    "model.add(tf.keras.layers.Conv2D(512,(3,3), activation='relu', padding = 'same'))\n",
    "model.add(tf.keras.layers.BatchNormalization())\n",
    "model.add(tf.keras.layers.MaxPooling2D((2,2)))\n",
    "model.add(tf.keras.layers.Dropout(0.5))\n",
    "\n",
    "model.add(tf.keras.layers.Flatten())\n",
    "\n",
    "model.add(tf.keras.layers.Dense(256, activation='relu'))\n",
    "model.add(tf.keras.layers.BatchNormalization())\n",
    "model.add(tf.keras.layers.Dropout(0.3))\n",
    "\n",
    "model.add(tf.keras.layers.Dense(7, activation='sigmoid'))"
   ]
  },
  {
   "cell_type": "code",
   "execution_count": 27,
   "metadata": {},
   "outputs": [
    {
     "name": "stdout",
     "output_type": "stream",
     "text": [
      "Model: \"sequential\"\n",
      "_________________________________________________________________\n",
      "Layer (type)                 Output Shape              Param #   \n",
      "=================================================================\n",
      "conv2d (Conv2D)              (None, 48, 48, 64)        640       \n",
      "_________________________________________________________________\n",
      "batch_normalization (BatchNo (None, 48, 48, 64)        256       \n",
      "_________________________________________________________________\n",
      "max_pooling2d (MaxPooling2D) (None, 24, 24, 64)        0         \n",
      "_________________________________________________________________\n",
      "dropout (Dropout)            (None, 24, 24, 64)        0         \n",
      "_________________________________________________________________\n",
      "conv2d_1 (Conv2D)            (None, 24, 24, 128)       73856     \n",
      "_________________________________________________________________\n",
      "batch_normalization_1 (Batch (None, 24, 24, 128)       512       \n",
      "_________________________________________________________________\n",
      "max_pooling2d_1 (MaxPooling2 (None, 12, 12, 128)       0         \n",
      "_________________________________________________________________\n",
      "dropout_1 (Dropout)          (None, 12, 12, 128)       0         \n",
      "_________________________________________________________________\n",
      "conv2d_2 (Conv2D)            (None, 12, 12, 256)       295168    \n",
      "_________________________________________________________________\n",
      "batch_normalization_2 (Batch (None, 12, 12, 256)       1024      \n",
      "_________________________________________________________________\n",
      "max_pooling2d_2 (MaxPooling2 (None, 6, 6, 256)         0         \n",
      "_________________________________________________________________\n",
      "dropout_2 (Dropout)          (None, 6, 6, 256)         0         \n",
      "_________________________________________________________________\n",
      "conv2d_3 (Conv2D)            (None, 6, 6, 512)         1180160   \n",
      "_________________________________________________________________\n",
      "batch_normalization_3 (Batch (None, 6, 6, 512)         2048      \n",
      "_________________________________________________________________\n",
      "max_pooling2d_3 (MaxPooling2 (None, 3, 3, 512)         0         \n",
      "_________________________________________________________________\n",
      "dropout_3 (Dropout)          (None, 3, 3, 512)         0         \n",
      "_________________________________________________________________\n",
      "conv2d_4 (Conv2D)            (None, 3, 3, 512)         2359808   \n",
      "_________________________________________________________________\n",
      "batch_normalization_4 (Batch (None, 3, 3, 512)         2048      \n",
      "_________________________________________________________________\n",
      "max_pooling2d_4 (MaxPooling2 (None, 1, 1, 512)         0         \n",
      "_________________________________________________________________\n",
      "dropout_4 (Dropout)          (None, 1, 1, 512)         0         \n",
      "_________________________________________________________________\n",
      "flatten (Flatten)            (None, 512)               0         \n",
      "_________________________________________________________________\n",
      "dense (Dense)                (None, 256)               131328    \n",
      "_________________________________________________________________\n",
      "batch_normalization_5 (Batch (None, 256)               1024      \n",
      "_________________________________________________________________\n",
      "dropout_5 (Dropout)          (None, 256)               0         \n",
      "_________________________________________________________________\n",
      "dense_1 (Dense)              (None, 7)                 1799      \n",
      "=================================================================\n",
      "Total params: 4,049,671\n",
      "Trainable params: 4,046,215\n",
      "Non-trainable params: 3,456\n",
      "_________________________________________________________________\n"
     ]
    }
   ],
   "source": [
    "model.summary()"
   ]
  },
  {
   "cell_type": "code",
   "execution_count": 28,
   "metadata": {},
   "outputs": [],
   "source": [
    "model.compile(loss='sparse_categorical_crossentropy',\n",
    "             optimizer = 'Adam',\n",
    "             metrics = ['acc'])"
   ]
  },
  {
   "cell_type": "code",
   "execution_count": 29,
   "metadata": {},
   "outputs": [],
   "source": [
    "class myCallback(tf.keras.callbacks.Callback):\n",
    "  def on_epoch_end(self, epoch, logs={}):\n",
    "    if(logs.get('acc')>0.98):\n",
    "      print(\"\\nReached 98% accuracy so cancelling training!\")\n",
    "      self.model.stop_training = True"
   ]
  },
  {
   "cell_type": "code",
   "execution_count": 30,
   "metadata": {},
   "outputs": [],
   "source": [
    "callbacks = myCallback()"
   ]
  },
  {
   "cell_type": "code",
   "execution_count": 31,
   "metadata": {},
   "outputs": [
    {
     "name": "stdout",
     "output_type": "stream",
     "text": [
      "Train on 28709 samples, validate on 3589 samples\n",
      "Epoch 1/30\n",
      "28709/28709 [==============================] - 371s 13ms/sample - loss: 1.9132 - acc: 0.2092 - val_loss: 1.8584 - val_acc: 0.2494\n",
      "Epoch 2/30\n",
      "28709/28709 [==============================] - 370s 13ms/sample - loss: 1.7609 - acc: 0.2873 - val_loss: 1.8340 - val_acc: 0.2661\n",
      "Epoch 3/30\n",
      "28709/28709 [==============================] - 362s 13ms/sample - loss: 1.6373 - acc: 0.3643 - val_loss: 1.6111 - val_acc: 0.3639\n",
      "Epoch 4/30\n",
      "28709/28709 [==============================] - 356s 12ms/sample - loss: 1.5158 - acc: 0.4180 - val_loss: 1.4938 - val_acc: 0.4322\n",
      "Epoch 5/30\n",
      "28709/28709 [==============================] - 372s 13ms/sample - loss: 1.4285 - acc: 0.4496 - val_loss: 1.4198 - val_acc: 0.4372\n",
      "Epoch 6/30\n",
      "28709/28709 [==============================] - 377s 13ms/sample - loss: 1.3621 - acc: 0.4767 - val_loss: 1.4381 - val_acc: 0.4556\n",
      "Epoch 7/30\n",
      "28709/28709 [==============================] - 379s 13ms/sample - loss: 1.3131 - acc: 0.4962 - val_loss: 1.2425 - val_acc: 0.5224\n",
      "Epoch 8/30\n",
      "28709/28709 [==============================] - 353s 12ms/sample - loss: 1.2667 - acc: 0.5121 - val_loss: 1.3302 - val_acc: 0.4987\n",
      "Epoch 9/30\n",
      "28709/28709 [==============================] - 346s 12ms/sample - loss: 1.2341 - acc: 0.5272 - val_loss: 1.2307 - val_acc: 0.5249\n",
      "Epoch 10/30\n",
      "28709/28709 [==============================] - 344s 12ms/sample - loss: 1.2022 - acc: 0.5424 - val_loss: 1.2465 - val_acc: 0.5121\n",
      "Epoch 11/30\n",
      "28709/28709 [==============================] - 345s 12ms/sample - loss: 1.1731 - acc: 0.5516 - val_loss: 1.2064 - val_acc: 0.5417\n",
      "Epoch 12/30\n",
      "28709/28709 [==============================] - 331s 12ms/sample - loss: 1.1496 - acc: 0.5638 - val_loss: 1.2058 - val_acc: 0.5430\n",
      "Epoch 13/30\n",
      "28709/28709 [==============================] - 330s 11ms/sample - loss: 1.1307 - acc: 0.5721 - val_loss: 1.1404 - val_acc: 0.5720\n",
      "Epoch 14/30\n",
      "28709/28709 [==============================] - 331s 12ms/sample - loss: 1.1080 - acc: 0.5800 - val_loss: 1.2149 - val_acc: 0.5464\n",
      "Epoch 15/30\n",
      "28709/28709 [==============================] - 332s 12ms/sample - loss: 1.0951 - acc: 0.5843 - val_loss: 1.1041 - val_acc: 0.5748\n",
      "Epoch 16/30\n",
      "28709/28709 [==============================] - 332s 12ms/sample - loss: 1.0766 - acc: 0.5884 - val_loss: 1.1198 - val_acc: 0.5745\n",
      "Epoch 17/30\n",
      "28709/28709 [==============================] - 346s 12ms/sample - loss: 1.0585 - acc: 0.5971 - val_loss: 1.1205 - val_acc: 0.5715\n",
      "Epoch 18/30\n",
      "28709/28709 [==============================] - 345s 12ms/sample - loss: 1.0332 - acc: 0.6094 - val_loss: 1.1513 - val_acc: 0.5492\n",
      "Epoch 19/30\n",
      "28709/28709 [==============================] - 346s 12ms/sample - loss: 1.0261 - acc: 0.6090 - val_loss: 1.0835 - val_acc: 0.5940\n",
      "Epoch 20/30\n",
      "28709/28709 [==============================] - 336s 12ms/sample - loss: 1.0069 - acc: 0.6183 - val_loss: 1.0556 - val_acc: 0.5996\n",
      "Epoch 21/30\n",
      "28709/28709 [==============================] - 328s 11ms/sample - loss: 0.9993 - acc: 0.6257 - val_loss: 1.2561 - val_acc: 0.5313\n",
      "Epoch 22/30\n",
      "28709/28709 [==============================] - 328s 11ms/sample - loss: 0.9860 - acc: 0.6243 - val_loss: 1.0333 - val_acc: 0.6119\n",
      "Epoch 23/30\n",
      "28709/28709 [==============================] - 328s 11ms/sample - loss: 0.9748 - acc: 0.6291 - val_loss: 1.1069 - val_acc: 0.5893\n",
      "Epoch 24/30\n",
      "28709/28709 [==============================] - 341s 12ms/sample - loss: 0.9623 - acc: 0.6379 - val_loss: 1.0370 - val_acc: 0.6074\n",
      "Epoch 25/30\n",
      "28709/28709 [==============================] - 360s 13ms/sample - loss: 0.9453 - acc: 0.6412 - val_loss: 1.0207 - val_acc: 0.6188\n",
      "Epoch 26/30\n",
      "28709/28709 [==============================] - 361s 13ms/sample - loss: 0.9448 - acc: 0.6455 - val_loss: 1.0433 - val_acc: 0.6102\n",
      "Epoch 27/30\n",
      "28709/28709 [==============================] - 366s 13ms/sample - loss: 0.9196 - acc: 0.6570 - val_loss: 1.0277 - val_acc: 0.6177\n",
      "Epoch 28/30\n",
      "28709/28709 [==============================] - 455s 16ms/sample - loss: 0.9081 - acc: 0.6581 - val_loss: 1.0625 - val_acc: 0.6105\n",
      "Epoch 29/30\n",
      "28709/28709 [==============================] - 397s 14ms/sample - loss: 0.9037 - acc: 0.6628 - val_loss: 1.0748 - val_acc: 0.6091\n",
      "Epoch 30/30\n",
      "28709/28709 [==============================] - 369s 13ms/sample - loss: 0.8867 - acc: 0.6687 - val_loss: 1.0337 - val_acc: 0.6236\n"
     ]
    },
    {
     "data": {
      "text/plain": [
       "<tensorflow.python.keras.callbacks.History at 0x2d8c1c16388>"
      ]
     },
     "execution_count": 31,
     "metadata": {},
     "output_type": "execute_result"
    }
   ],
   "source": [
    "model.fit(x_train,y_train,\n",
    "         batch_size = 128,\n",
    "         epochs = 30,\n",
    "         validation_data = (x_val,y_val),\n",
    "         callbacks=[callbacks])"
   ]
  },
  {
   "cell_type": "code",
   "execution_count": 151,
   "metadata": {},
   "outputs": [],
   "source": [
    "model.save('emotion_ditect.h5')"
   ]
  },
  {
   "cell_type": "code",
   "execution_count": 156,
   "metadata": {},
   "outputs": [],
   "source": [
    "test_loss, test_acc = model.evaluate(x_test,y_test, verbose=0)"
   ]
  },
  {
   "cell_type": "code",
   "execution_count": 157,
   "metadata": {},
   "outputs": [
    {
     "name": "stdout",
     "output_type": "stream",
     "text": [
      "test loss: 1.347516767192797\n",
      "test accuracy: 0.6308164\n"
     ]
    }
   ],
   "source": [
    "print('test loss:', test_loss)\n",
    "print('test accuracy:', test_acc)"
   ]
  }
 ],
 "metadata": {
  "kernelspec": {
   "display_name": "Python [conda env:MLEnv] *",
   "language": "python",
   "name": "conda-env-MLEnv-py"
  },
  "language_info": {
   "codemirror_mode": {
    "name": "ipython",
    "version": 3
   },
   "file_extension": ".py",
   "mimetype": "text/x-python",
   "name": "python",
   "nbconvert_exporter": "python",
   "pygments_lexer": "ipython3",
   "version": "3.7.6"
  }
 },
 "nbformat": 4,
 "nbformat_minor": 2
}
